{
  "nbformat": 4,
  "nbformat_minor": 0,
  "metadata": {
    "colab": {
      "name": "Marketing hw1.ipynb",
      "provenance": [],
      "collapsed_sections": [],
      "include_colab_link": true
    },
    "kernelspec": {
      "name": "python3",
      "display_name": "Python 3"
    },
    "language_info": {
      "name": "python"
    }
  },
  "cells": [
    {
      "cell_type": "markdown",
      "metadata": {
        "id": "view-in-github",
        "colab_type": "text"
      },
      "source": [
        "<a href=\"https://colab.research.google.com/github/jl729/jl729/blob/main/Marketing_hw1.ipynb\" target=\"_parent\"><img src=\"https://colab.research.google.com/assets/colab-badge.svg\" alt=\"Open In Colab\"/></a>"
      ]
    },
    {
      "cell_type": "code",
      "metadata": {
        "colab": {
          "base_uri": "https://localhost:8080/"
        },
        "id": "CyY41ZBQowBG",
        "outputId": "14a4b21e-8b6b-4d63-ab60-79e8198ed73c"
      },
      "source": [
        "from google.colab import drive \n",
        "drive.mount('/content/gdrive')"
      ],
      "execution_count": null,
      "outputs": [
        {
          "output_type": "stream",
          "name": "stdout",
          "text": [
            "Mounted at /content/gdrive\n"
          ]
        }
      ]
    },
    {
      "cell_type": "code",
      "metadata": {
        "id": "eAEUM-HfpuB6"
      },
      "source": [
        "import pandas as pd\n",
        "import numpy as np\n",
        "import scipy.stats as stats"
      ],
      "execution_count": null,
      "outputs": []
    },
    {
      "cell_type": "code",
      "metadata": {
        "id": "ZIIROb4NpE7y"
      },
      "source": [
        "data = pd.read_csv('gdrive/My Drive/AB_test_data.csv')"
      ],
      "execution_count": null,
      "outputs": []
    },
    {
      "cell_type": "code",
      "metadata": {
        "colab": {
          "base_uri": "https://localhost:8080/",
          "height": 201
        },
        "id": "y5aUXgP4pyC7",
        "outputId": "2214a365-215b-4724-b66f-a2f3724f8e75"
      },
      "source": [
        "data.head()"
      ],
      "execution_count": null,
      "outputs": [
        {
          "output_type": "execute_result",
          "data": {
            "text/html": [
              "<div>\n",
              "<style scoped>\n",
              "    .dataframe tbody tr th:only-of-type {\n",
              "        vertical-align: middle;\n",
              "    }\n",
              "\n",
              "    .dataframe tbody tr th {\n",
              "        vertical-align: top;\n",
              "    }\n",
              "\n",
              "    .dataframe thead th {\n",
              "        text-align: right;\n",
              "    }\n",
              "</style>\n",
              "<table border=\"1\" class=\"dataframe\">\n",
              "  <thead>\n",
              "    <tr style=\"text-align: right;\">\n",
              "      <th></th>\n",
              "      <th>purchase_TF</th>\n",
              "      <th>Variant</th>\n",
              "      <th>date</th>\n",
              "      <th>id</th>\n",
              "    </tr>\n",
              "  </thead>\n",
              "  <tbody>\n",
              "    <tr>\n",
              "      <th>0</th>\n",
              "      <td>False</td>\n",
              "      <td>A</td>\n",
              "      <td>2019-11-08</td>\n",
              "      <td>0x25b44a</td>\n",
              "    </tr>\n",
              "    <tr>\n",
              "      <th>1</th>\n",
              "      <td>False</td>\n",
              "      <td>B</td>\n",
              "      <td>2020-08-27</td>\n",
              "      <td>0x46271e</td>\n",
              "    </tr>\n",
              "    <tr>\n",
              "      <th>2</th>\n",
              "      <td>False</td>\n",
              "      <td>A</td>\n",
              "      <td>2020-06-11</td>\n",
              "      <td>0x80b8f1</td>\n",
              "    </tr>\n",
              "    <tr>\n",
              "      <th>3</th>\n",
              "      <td>False</td>\n",
              "      <td>B</td>\n",
              "      <td>2020-08-22</td>\n",
              "      <td>0x8d736d</td>\n",
              "    </tr>\n",
              "    <tr>\n",
              "      <th>4</th>\n",
              "      <td>False</td>\n",
              "      <td>A</td>\n",
              "      <td>2020-08-05</td>\n",
              "      <td>0x96c9c8</td>\n",
              "    </tr>\n",
              "  </tbody>\n",
              "</table>\n",
              "</div>"
            ],
            "text/plain": [
              "   purchase_TF Variant        date        id\n",
              "0        False       A  2019-11-08  0x25b44a\n",
              "1        False       B  2020-08-27  0x46271e\n",
              "2        False       A  2020-06-11  0x80b8f1\n",
              "3        False       B  2020-08-22  0x8d736d\n",
              "4        False       A  2020-08-05  0x96c9c8"
            ]
          },
          "metadata": {},
          "execution_count": 4
        }
      ]
    },
    {
      "cell_type": "markdown",
      "metadata": {
        "id": "f8wPL20UqdyO"
      },
      "source": [
        "1. Conduct an A/B test to determine whether Alternative B improved conversion rates (site\n",
        "users book the property) over alternative A."
      ]
    },
    {
      "cell_type": "markdown",
      "metadata": {
        "id": "MnP6vhID8n2k"
      },
      "source": [
        "H0: Alternative B has no improvement on conversion rates\n",
        "\n",
        "Ha: Alternative B has improvement on conversion rates\n",
        "\n",
        "H0: μA = μB\n",
        "\n",
        "Ha: μA < μB"
      ]
    },
    {
      "cell_type": "code",
      "metadata": {
        "id": "bSjkhTEFqKQp"
      },
      "source": [
        "data['purchase_binary'] = np.where(data['purchase_TF'] != True, 0, 1)"
      ],
      "execution_count": null,
      "outputs": []
    },
    {
      "cell_type": "code",
      "metadata": {
        "id": "Ywan7xCdquPH"
      },
      "source": [
        "VariantA = data[data['Variant'] == 'A']\n",
        "VariantB = data[data['Variant'] == 'B']"
      ],
      "execution_count": null,
      "outputs": []
    },
    {
      "cell_type": "code",
      "metadata": {
        "id": "uwlygGQt3dW8"
      },
      "source": [
        "sample_average = data['purchase_binary'].mean()"
      ],
      "execution_count": null,
      "outputs": []
    },
    {
      "cell_type": "code",
      "metadata": {
        "id": "9_W2xmOAzCCU"
      },
      "source": [
        "A_mean = VariantA['purchase_binary'].mean()\n",
        "B_mean = VariantB['purchase_binary'].mean()\n",
        "std = data['purchase_binary'].std()\n",
        "n_A = len(VariantA)\n",
        "n_B = len(VariantB)"
      ],
      "execution_count": null,
      "outputs": []
    },
    {
      "cell_type": "code",
      "metadata": {
        "colab": {
          "base_uri": "https://localhost:8080/"
        },
        "id": "BlgldNE14R8v",
        "outputId": "bd1e05b5-eb3f-4885-f269-6dbb0dc19a75"
      },
      "source": [
        "mean_diff = B_mean - A_mean\n",
        "sample_std = ((std**2*(1/n_A + 1/n_B))**0.5)\n",
        "z_score = mean_diff/sample_std\n",
        "print(z_score)"
      ],
      "execution_count": null,
      "outputs": [
        {
          "output_type": "stream",
          "name": "stdout",
          "text": [
            "5.230467601048211\n"
          ]
        }
      ]
    },
    {
      "cell_type": "markdown",
      "metadata": {
        "id": "L-U_WTzv5F0y"
      },
      "source": [
        "As the z-score is 5.230467601048211, which is greater than the critical number (1.645) for one sided z test with 95% confidence level, so we reject the null hypothesis that alternative B has no improvement on conversion rates. "
      ]
    },
    {
      "cell_type": "markdown",
      "metadata": {
        "id": "VBYpAt2fqe5_"
      },
      "source": [
        "2. Calculate the optimal sample size for a 95% confidence rate and test with 80% power.\n",
        "Conduct the test 10 times using samples of the optimal size. Report results."
      ]
    },
    {
      "cell_type": "code",
      "metadata": {
        "id": "Esx5Yj5DqhkC"
      },
      "source": [
        "CI = 0.95\n",
        "α = 0.05\n",
        "β = 0.02 "
      ],
      "execution_count": null,
      "outputs": []
    },
    {
      "cell_type": "code",
      "metadata": {
        "id": "TiALtcEtFPq1"
      },
      "source": [
        "serA = data['purchase_binary'].value_counts()\n",
        "ser = VariantB['purchase_binary'].value_counts()"
      ],
      "execution_count": null,
      "outputs": []
    },
    {
      "cell_type": "code",
      "metadata": {
        "id": "lkLbX65_E26Y"
      },
      "source": [
        "p = ser[1]/len(VariantB)\n",
        "p0 = serA[0]/len(data)\n",
        "p1 = serA[1]/len(data)"
      ],
      "execution_count": null,
      "outputs": []
    },
    {
      "cell_type": "code",
      "metadata": {
        "id": "Zptog6yIJ1nm"
      },
      "source": [
        "z_score_alpha = 1.645\n",
        "z_score_beta = 0.84\n",
        "delta = 0.84 * (B_mean - A_mean) + (B_mean - A_mean)  "
      ],
      "execution_count": null,
      "outputs": []
    },
    {
      "cell_type": "code",
      "metadata": {
        "colab": {
          "base_uri": "https://localhost:8080/"
        },
        "id": "yWEcimFbBIR-",
        "outputId": "394d27ab-a5b7-43d6-d869-148af7e05d3c"
      },
      "source": [
        "n = ((z_score_alpha*(2*p*(1-p))**0.5 + z_score_beta*(p0*(1-p0)+p1*(1-p1))**0.5)**2)/(delta**2)\n",
        "print(n)"
      ],
      "execution_count": null,
      "outputs": [
        {
          "output_type": "stream",
          "name": "stdout",
          "text": [
            "698.3250198276319\n"
          ]
        }
      ]
    },
    {
      "cell_type": "code",
      "metadata": {
        "id": "HhJJauM1KjdW",
        "colab": {
          "base_uri": "https://localhost:8080/"
        },
        "outputId": "a8f24f93-0afb-415a-831e-1e93127d9cc0"
      },
      "source": [
        "count = 0\n",
        "while count <= 10:\n",
        "  control_sample = data[data['Variant'] == 'A'].sample(n=699)\n",
        "  treatment_sample = data[data['Variant'] == 'B'].sample(n=699)\n",
        "\n",
        "  ab_test = pd.concat([control_sample, treatment_sample], axis=0)\n",
        "  ab_test.reset_index(drop=True, inplace=True)\n",
        "\n",
        "  A_mean = control_sample['purchase_binary'].mean()\n",
        "  B_mean = treatment_sample['purchase_binary'].mean()\n",
        "  std = ab_test['purchase_binary'].std()\n",
        "  n_A = len(control_sample)\n",
        "  n_B = len(treatment_sample)\n",
        "\n",
        "  mean_diff = B_mean - A_mean\n",
        "  sample_std = ((std**2*(1/n_A + 1/n_B))**0.5)\n",
        "  z_score = mean_diff/sample_std\n",
        "  print(z_score)\n",
        "  count +=1"
      ],
      "execution_count": null,
      "outputs": [
        {
          "output_type": "stream",
          "name": "stdout",
          "text": [
            "0.9051232300136663\n",
            "-1.0203946692776775\n",
            "1.3538218563108753\n",
            "0.6010118595609371\n",
            "2.0659786894425602\n",
            "0.789132563750809\n",
            "2.2777327121810997\n",
            "3.1172761908951836\n",
            "1.1458658247221607\n",
            "1.6152393947050454\n",
            "0.7089870497618387\n"
          ]
        }
      ]
    },
    {
      "cell_type": "code",
      "metadata": {
        "colab": {
          "base_uri": "https://localhost:8080/"
        },
        "id": "kykl1fjjN8zu",
        "outputId": "af726db4-9574-4e5d-fe7b-98c20327c4c9"
      },
      "source": [
        "# not sample control group\n",
        "count = 0\n",
        "while count <= 10:\n",
        "  treatment_sample = data[data['Variant'] == 'B'].sample(n=699)\n",
        "\n",
        "  ab_test = pd.concat([VariantA, treatment_sample], axis=0)\n",
        "  ab_test.reset_index(drop=True, inplace=True)\n",
        "\n",
        "  A_mean = VariantA['purchase_binary'].mean()\n",
        "  B_mean = treatment_sample['purchase_binary'].mean()\n",
        "  std = ab_test['purchase_binary'].std()\n",
        "  n_A = len(VariantA)\n",
        "  n_B = len(treatment_sample)\n",
        "\n",
        "  mean_diff = B_mean - A_mean\n",
        "  sample_std = ((std**2*(1/n_A + 1/n_B))**0.5)\n",
        "  z_score = mean_diff/sample_std\n",
        "  print(z_score)\n",
        "  count +=1"
      ],
      "execution_count": null,
      "outputs": [
        {
          "output_type": "stream",
          "name": "stdout",
          "text": [
            "2.5807002156198124\n",
            "0.5728923440068147\n",
            "0.25571736349493096\n",
            "2.1581425157635925\n",
            "1.5241673269672535\n",
            "0.6786080765112231\n",
            "0.7843191795412469\n",
            "1.4184886130864995\n",
            "2.052491540100476\n",
            "2.1581425157635925\n",
            "1.841175723647309\n"
          ]
        }
      ]
    },
    {
      "cell_type": "markdown",
      "metadata": {
        "id": "bali3Ch7qh27"
      },
      "source": [
        "3. Conduct a sequential test for the 10 samples. For any of the samples, were you able to\n",
        "stop the test prior to using the full sample? What was the average number of iterations required to stop the test?"
      ]
    },
    {
      "cell_type": "code",
      "metadata": {
        "id": "wNFQL9c9qjyp"
      },
      "source": [
        "ln = np.log\n",
        "lnA = ln(1/α)\n",
        "lnB = ln(β) "
      ],
      "execution_count": null,
      "outputs": []
    },
    {
      "cell_type": "code",
      "metadata": {
        "colab": {
          "base_uri": "https://localhost:8080/"
        },
        "id": "fq65h-0XPBSA",
        "outputId": "4ee1d2b4-b69f-4bf7-e183-6c3a5aa18a2b"
      },
      "source": [
        "print(lnA)\n",
        "print(lnB)"
      ],
      "execution_count": null,
      "outputs": [
        {
          "output_type": "stream",
          "name": "stdout",
          "text": [
            "2.995732273553991\n",
            "-3.912023005428146\n"
          ]
        }
      ]
    },
    {
      "cell_type": "code",
      "metadata": {
        "id": "aCs6kKcdOqdd",
        "colab": {
          "base_uri": "https://localhost:8080/"
        },
        "outputId": "3acb7e19-e7fc-445e-ee11-0b502d619380"
      },
      "source": [
        "sample_time = 1\n",
        "total = 0\n",
        "\n",
        "while sample_time <= 10:\n",
        "  ln_lambda = 0\n",
        "  n=1\n",
        "  \n",
        "  while lnB <= ln_lambda and ln_lambda <= lnA:\n",
        "    sample = data[data['Variant'] == 'B'].sample(n=1)\n",
        "\n",
        "    if pd.Series(sample['purchase_binary'] == 1).bool():\n",
        "      update = ln(p/p1)\n",
        "    else:\n",
        "      update = ln((1-p)/p1)\n",
        "\n",
        "    ln_lambda += update\n",
        "    n += 1\n",
        "  \n",
        "  print('When time = %d, iterations = %d.' %(sample_time, n))\n",
        "  total += n\n",
        "  sample_time += 1\n",
        "\n",
        "average = total/sample_time\n",
        "print(average)"
      ],
      "execution_count": null,
      "outputs": [
        {
          "output_type": "stream",
          "name": "stdout",
          "text": [
            "When time = 1, iterations = 4.\n",
            "When time = 2, iterations = 4.\n",
            "When time = 3, iterations = 3.\n",
            "When time = 4, iterations = 3.\n",
            "When time = 5, iterations = 4.\n",
            "When time = 6, iterations = 3.\n",
            "When time = 7, iterations = 4.\n",
            "When time = 8, iterations = 5.\n",
            "When time = 9, iterations = 5.\n",
            "When time = 10, iterations = 4.\n",
            "3.5454545454545454\n"
          ]
        }
      ]
    },
    {
      "cell_type": "code",
      "metadata": {
        "id": "Y-Tbt6gvJZ_n"
      },
      "source": [
        ""
      ],
      "execution_count": null,
      "outputs": []
    },
    {
      "cell_type": "code",
      "metadata": {
        "id": "QQE7kuzGJaDA"
      },
      "source": [
        ""
      ],
      "execution_count": null,
      "outputs": []
    },
    {
      "cell_type": "code",
      "metadata": {
        "id": "TkofbzpwJaE7"
      },
      "source": [
        ""
      ],
      "execution_count": null,
      "outputs": []
    },
    {
      "cell_type": "code",
      "metadata": {
        "id": "rGbG0aqwAqzI",
        "colab": {
          "base_uri": "https://localhost:8080/"
        },
        "outputId": "4e1dce2a-2b83-4559-931d-52a107be8514"
      },
      "source": [
        "!pip install sprt"
      ],
      "execution_count": null,
      "outputs": [
        {
          "output_type": "stream",
          "name": "stdout",
          "text": [
            "Collecting sprt\n",
            "  Downloading sprt-0.0.1.tar.gz (3.5 kB)\n",
            "Building wheels for collected packages: sprt\n",
            "  Building wheel for sprt (setup.py) ... \u001b[?25l\u001b[?25hdone\n",
            "  Created wheel for sprt: filename=sprt-0.0.1-py3-none-any.whl size=4036 sha256=cfd74affe68eb37193e03925da618b62ab958a61a9e2fa6d87709a5935acd42e\n",
            "  Stored in directory: /root/.cache/pip/wheels/8d/2d/0c/d0736d530abed996fcbfbe0aacc965e314249bd43af3b24c70\n",
            "Successfully built sprt\n",
            "Installing collected packages: sprt\n",
            "Successfully installed sprt-0.0.1\n"
          ]
        }
      ]
    },
    {
      "cell_type": "code",
      "metadata": {
        "colab": {
          "base_uri": "https://localhost:8080/"
        },
        "id": "rvbBO_pyI1c2",
        "outputId": "a4570b77-82a7-487e-ab6f-c7bc1a7eaa93"
      },
      "source": [
        "import sprt as sprt\n",
        "import numpy as np\n",
        "\n",
        "test = sprt.SPRTNormal(alpha = 0.05, beta = 0.2, h0 = 0, h1 = 1, \n",
        "values = np.random.normal(0, 1, 10), \n",
        "variance = 1)"
      ],
      "execution_count": null,
      "outputs": [
        {
          "output_type": "stream",
          "name": "stdout",
          "text": [
            "Decision:\tAccept\n",
            "\n",
            "    values  lower  upper\n",
            "n                       \n",
            "1   -1.332 -1.058  3.273\n",
            "2   -0.818 -0.558  3.773\n",
            "3   -1.498 -0.058  4.273\n",
            "4   -0.414  0.442  4.773\n",
            "5   -1.591  0.942  5.273\n",
            "6   -1.490  1.442  5.773\n",
            "7   -1.374  1.942  6.273\n",
            "8   -0.481  2.442  6.773\n",
            "9    0.066  2.942  7.273\n",
            "10   0.381  3.442  7.773\n"
          ]
        }
      ]
    },
    {
      "cell_type": "code",
      "metadata": {
        "colab": {
          "base_uri": "https://localhost:8080/",
          "height": 392
        },
        "id": "_8jiXZhpI2RS",
        "outputId": "2e188782-35eb-48fc-8d90-fc3e34e3d234"
      },
      "source": [
        "test.plot()"
      ],
      "execution_count": null,
      "outputs": [
        {
          "output_type": "display_data",
          "data": {
            "image/png": "[encoded data removed]",
            "text/plain": [
              "<Figure size 576x432 with 1 Axes>"
            ]
          },
          "metadata": {
            "needs_background": "light"
          }
        }
      ]
    }
  ]
}