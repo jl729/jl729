{
 "cells": [
  {
   "cell_type": "code",
   "execution_count": 1,
   "id": "818875e0",
   "metadata": {},
   "outputs": [],
   "source": [
    "import pandas as pd"
   ]
  },
  {
   "cell_type": "code",
   "execution_count": 3,
   "id": "a356201c",
   "metadata": {},
   "outputs": [],
   "source": [
    "import numpy as np"
   ]
  },
  {
   "cell_type": "code",
   "execution_count": 16,
   "id": "cb511668",
   "metadata": {},
   "outputs": [],
   "source": [
    "cluster = pd.read_csv('output.csv')"
   ]
  },
  {
   "cell_type": "code",
   "execution_count": 17,
   "id": "23dce97b",
   "metadata": {},
   "outputs": [],
   "source": [
    "cluster['label'] = np.where(cluster['label']== 0,'Group 1', 'Group 2')"
   ]
  },
  {
   "cell_type": "code",
   "execution_count": 18,
   "id": "77b5062a",
   "metadata": {},
   "outputs": [
    {
     "data": {
      "text/html": [
       "<div>\n",
       "<style scoped>\n",
       "    .dataframe tbody tr th:only-of-type {\n",
       "        vertical-align: middle;\n",
       "    }\n",
       "\n",
       "    .dataframe tbody tr th {\n",
       "        vertical-align: top;\n",
       "    }\n",
       "\n",
       "    .dataframe thead th {\n",
       "        text-align: right;\n",
       "    }\n",
       "</style>\n",
       "<table border=\"1\" class=\"dataframe\">\n",
       "  <thead>\n",
       "    <tr style=\"text-align: right;\">\n",
       "      <th></th>\n",
       "      <th>Unnamed: 0</th>\n",
       "      <th>subid</th>\n",
       "      <th>Unnamed: 0.1</th>\n",
       "      <th>package_type</th>\n",
       "      <th>num_weekly_services_utilized</th>\n",
       "      <th>preferred_genre</th>\n",
       "      <th>intended_use</th>\n",
       "      <th>weekly_consumption_hour</th>\n",
       "      <th>num_ideal_streaming_services</th>\n",
       "      <th>age</th>\n",
       "      <th>...</th>\n",
       "      <th>renew</th>\n",
       "      <th>app_opens</th>\n",
       "      <th>cust_service_mssgs</th>\n",
       "      <th>num_videos_completed</th>\n",
       "      <th>num_videos_more_than_30_seconds</th>\n",
       "      <th>num_videos_rated</th>\n",
       "      <th>num_series_started</th>\n",
       "      <th>payment_period_y</th>\n",
       "      <th>label</th>\n",
       "      <th>train/test</th>\n",
       "    </tr>\n",
       "  </thead>\n",
       "  <tbody>\n",
       "    <tr>\n",
       "      <th>0</th>\n",
       "      <td>0</td>\n",
       "      <td>26844789</td>\n",
       "      <td>496617</td>\n",
       "      <td>enhanced</td>\n",
       "      <td>3.0</td>\n",
       "      <td>regional</td>\n",
       "      <td>replace OTT</td>\n",
       "      <td>36.001186</td>\n",
       "      <td>2.0</td>\n",
       "      <td>25.0</td>\n",
       "      <td>...</td>\n",
       "      <td>False</td>\n",
       "      <td>1.000000</td>\n",
       "      <td>1.000000</td>\n",
       "      <td>6.500000</td>\n",
       "      <td>6.500000</td>\n",
       "      <td>0.000000</td>\n",
       "      <td>0.500000</td>\n",
       "      <td>0.000000</td>\n",
       "      <td>Group 1</td>\n",
       "      <td>Train</td>\n",
       "    </tr>\n",
       "    <tr>\n",
       "      <th>1</th>\n",
       "      <td>1</td>\n",
       "      <td>29726122</td>\n",
       "      <td>192823</td>\n",
       "      <td>base</td>\n",
       "      <td>2.0</td>\n",
       "      <td>comedy</td>\n",
       "      <td>access to exclusive content</td>\n",
       "      <td>20.051667</td>\n",
       "      <td>2.0</td>\n",
       "      <td>61.0</td>\n",
       "      <td>...</td>\n",
       "      <td>True</td>\n",
       "      <td>0.975610</td>\n",
       "      <td>0.414634</td>\n",
       "      <td>4.439024</td>\n",
       "      <td>4.439024</td>\n",
       "      <td>0.146341</td>\n",
       "      <td>0.951220</td>\n",
       "      <td>0.756098</td>\n",
       "      <td>Group 1</td>\n",
       "      <td>Train</td>\n",
       "    </tr>\n",
       "    <tr>\n",
       "      <th>2</th>\n",
       "      <td>2</td>\n",
       "      <td>20299962</td>\n",
       "      <td>315863</td>\n",
       "      <td>base</td>\n",
       "      <td>3.0</td>\n",
       "      <td>drama</td>\n",
       "      <td>access to exclusive content</td>\n",
       "      <td>34.551230</td>\n",
       "      <td>2.0</td>\n",
       "      <td>23.0</td>\n",
       "      <td>...</td>\n",
       "      <td>True</td>\n",
       "      <td>2.260870</td>\n",
       "      <td>0.217391</td>\n",
       "      <td>1.826087</td>\n",
       "      <td>4.478261</td>\n",
       "      <td>0.000000</td>\n",
       "      <td>0.630435</td>\n",
       "      <td>0.673913</td>\n",
       "      <td>Group 2</td>\n",
       "      <td>Test</td>\n",
       "    </tr>\n",
       "    <tr>\n",
       "      <th>3</th>\n",
       "      <td>3</td>\n",
       "      <td>25393847</td>\n",
       "      <td>277565</td>\n",
       "      <td>base</td>\n",
       "      <td>2.0</td>\n",
       "      <td>regional</td>\n",
       "      <td>supplement OTT</td>\n",
       "      <td>28.751405</td>\n",
       "      <td>2.0</td>\n",
       "      <td>57.0</td>\n",
       "      <td>...</td>\n",
       "      <td>False</td>\n",
       "      <td>2.400000</td>\n",
       "      <td>0.800000</td>\n",
       "      <td>3.600000</td>\n",
       "      <td>4.400000</td>\n",
       "      <td>0.000000</td>\n",
       "      <td>0.600000</td>\n",
       "      <td>0.000000</td>\n",
       "      <td>Group 1</td>\n",
       "      <td>Train</td>\n",
       "    </tr>\n",
       "    <tr>\n",
       "      <th>4</th>\n",
       "      <td>4</td>\n",
       "      <td>23163827</td>\n",
       "      <td>377093</td>\n",
       "      <td>economy</td>\n",
       "      <td>3.0</td>\n",
       "      <td>comedy</td>\n",
       "      <td>replace OTT</td>\n",
       "      <td>33.101274</td>\n",
       "      <td>2.0</td>\n",
       "      <td>54.0</td>\n",
       "      <td>...</td>\n",
       "      <td>False</td>\n",
       "      <td>5.071429</td>\n",
       "      <td>0.428571</td>\n",
       "      <td>3.714286</td>\n",
       "      <td>4.857143</td>\n",
       "      <td>0.000000</td>\n",
       "      <td>0.857143</td>\n",
       "      <td>0.000000</td>\n",
       "      <td>Group 1</td>\n",
       "      <td>Test</td>\n",
       "    </tr>\n",
       "    <tr>\n",
       "      <th>...</th>\n",
       "      <td>...</td>\n",
       "      <td>...</td>\n",
       "      <td>...</td>\n",
       "      <td>...</td>\n",
       "      <td>...</td>\n",
       "      <td>...</td>\n",
       "      <td>...</td>\n",
       "      <td>...</td>\n",
       "      <td>...</td>\n",
       "      <td>...</td>\n",
       "      <td>...</td>\n",
       "      <td>...</td>\n",
       "      <td>...</td>\n",
       "      <td>...</td>\n",
       "      <td>...</td>\n",
       "      <td>...</td>\n",
       "      <td>...</td>\n",
       "      <td>...</td>\n",
       "      <td>...</td>\n",
       "      <td>...</td>\n",
       "      <td>...</td>\n",
       "    </tr>\n",
       "    <tr>\n",
       "      <th>80790</th>\n",
       "      <td>80790</td>\n",
       "      <td>26828621</td>\n",
       "      <td>243775</td>\n",
       "      <td>base</td>\n",
       "      <td>4.0</td>\n",
       "      <td>drama</td>\n",
       "      <td>access to exclusive content</td>\n",
       "      <td>27.301448</td>\n",
       "      <td>2.0</td>\n",
       "      <td>44.0</td>\n",
       "      <td>...</td>\n",
       "      <td>True</td>\n",
       "      <td>1.000000</td>\n",
       "      <td>0.500000</td>\n",
       "      <td>1.500000</td>\n",
       "      <td>5.500000</td>\n",
       "      <td>0.000000</td>\n",
       "      <td>0.500000</td>\n",
       "      <td>0.000000</td>\n",
       "      <td>Group 2</td>\n",
       "      <td>Train</td>\n",
       "    </tr>\n",
       "    <tr>\n",
       "      <th>80791</th>\n",
       "      <td>80791</td>\n",
       "      <td>25492551</td>\n",
       "      <td>378377</td>\n",
       "      <td>base</td>\n",
       "      <td>3.0</td>\n",
       "      <td>comedy</td>\n",
       "      <td>access to exclusive content</td>\n",
       "      <td>30.201361</td>\n",
       "      <td>2.0</td>\n",
       "      <td>32.0</td>\n",
       "      <td>...</td>\n",
       "      <td>False</td>\n",
       "      <td>1.500000</td>\n",
       "      <td>2.000000</td>\n",
       "      <td>6.000000</td>\n",
       "      <td>6.500000</td>\n",
       "      <td>0.000000</td>\n",
       "      <td>0.500000</td>\n",
       "      <td>0.000000</td>\n",
       "      <td>Group 1</td>\n",
       "      <td>Test</td>\n",
       "    </tr>\n",
       "    <tr>\n",
       "      <th>80792</th>\n",
       "      <td>80792</td>\n",
       "      <td>25835684</td>\n",
       "      <td>603751</td>\n",
       "      <td>base</td>\n",
       "      <td>2.0</td>\n",
       "      <td>drama</td>\n",
       "      <td>access to exclusive content</td>\n",
       "      <td>24.401536</td>\n",
       "      <td>2.0</td>\n",
       "      <td>43.0</td>\n",
       "      <td>...</td>\n",
       "      <td>False</td>\n",
       "      <td>2.583333</td>\n",
       "      <td>0.416667</td>\n",
       "      <td>3.916667</td>\n",
       "      <td>4.916667</td>\n",
       "      <td>0.000000</td>\n",
       "      <td>0.666667</td>\n",
       "      <td>0.000000</td>\n",
       "      <td>Group 1</td>\n",
       "      <td>Train</td>\n",
       "    </tr>\n",
       "    <tr>\n",
       "      <th>80793</th>\n",
       "      <td>80793</td>\n",
       "      <td>21434712</td>\n",
       "      <td>509326</td>\n",
       "      <td>enhanced</td>\n",
       "      <td>3.0</td>\n",
       "      <td>comedy</td>\n",
       "      <td>supplement OTT</td>\n",
       "      <td>28.751405</td>\n",
       "      <td>2.0</td>\n",
       "      <td>38.0</td>\n",
       "      <td>...</td>\n",
       "      <td>False</td>\n",
       "      <td>1.777778</td>\n",
       "      <td>0.333333</td>\n",
       "      <td>2.222222</td>\n",
       "      <td>4.000000</td>\n",
       "      <td>0.000000</td>\n",
       "      <td>0.222222</td>\n",
       "      <td>0.000000</td>\n",
       "      <td>Group 2</td>\n",
       "      <td>Train</td>\n",
       "    </tr>\n",
       "    <tr>\n",
       "      <th>80794</th>\n",
       "      <td>80794</td>\n",
       "      <td>25843074</td>\n",
       "      <td>229587</td>\n",
       "      <td>enhanced</td>\n",
       "      <td>2.0</td>\n",
       "      <td>comedy</td>\n",
       "      <td>replace OTT</td>\n",
       "      <td>27.301448</td>\n",
       "      <td>2.0</td>\n",
       "      <td>49.0</td>\n",
       "      <td>...</td>\n",
       "      <td>True</td>\n",
       "      <td>2.666667</td>\n",
       "      <td>0.555556</td>\n",
       "      <td>1.444444</td>\n",
       "      <td>4.518519</td>\n",
       "      <td>0.000000</td>\n",
       "      <td>0.555556</td>\n",
       "      <td>0.444444</td>\n",
       "      <td>Group 2</td>\n",
       "      <td>Train</td>\n",
       "    </tr>\n",
       "  </tbody>\n",
       "</table>\n",
       "<p>80795 rows × 44 columns</p>\n",
       "</div>"
      ],
      "text/plain": [
       "       Unnamed: 0     subid  Unnamed: 0.1 package_type  \\\n",
       "0               0  26844789        496617     enhanced   \n",
       "1               1  29726122        192823         base   \n",
       "2               2  20299962        315863         base   \n",
       "3               3  25393847        277565         base   \n",
       "4               4  23163827        377093      economy   \n",
       "...           ...       ...           ...          ...   \n",
       "80790       80790  26828621        243775         base   \n",
       "80791       80791  25492551        378377         base   \n",
       "80792       80792  25835684        603751         base   \n",
       "80793       80793  21434712        509326     enhanced   \n",
       "80794       80794  25843074        229587     enhanced   \n",
       "\n",
       "       num_weekly_services_utilized preferred_genre  \\\n",
       "0                               3.0        regional   \n",
       "1                               2.0          comedy   \n",
       "2                               3.0           drama   \n",
       "3                               2.0        regional   \n",
       "4                               3.0          comedy   \n",
       "...                             ...             ...   \n",
       "80790                           4.0           drama   \n",
       "80791                           3.0          comedy   \n",
       "80792                           2.0           drama   \n",
       "80793                           3.0          comedy   \n",
       "80794                           2.0          comedy   \n",
       "\n",
       "                      intended_use  weekly_consumption_hour  \\\n",
       "0                      replace OTT                36.001186   \n",
       "1      access to exclusive content                20.051667   \n",
       "2      access to exclusive content                34.551230   \n",
       "3                   supplement OTT                28.751405   \n",
       "4                      replace OTT                33.101274   \n",
       "...                            ...                      ...   \n",
       "80790  access to exclusive content                27.301448   \n",
       "80791  access to exclusive content                30.201361   \n",
       "80792  access to exclusive content                24.401536   \n",
       "80793               supplement OTT                28.751405   \n",
       "80794                  replace OTT                27.301448   \n",
       "\n",
       "       num_ideal_streaming_services   age  ...  renew app_opens  \\\n",
       "0                               2.0  25.0  ...  False  1.000000   \n",
       "1                               2.0  61.0  ...   True  0.975610   \n",
       "2                               2.0  23.0  ...   True  2.260870   \n",
       "3                               2.0  57.0  ...  False  2.400000   \n",
       "4                               2.0  54.0  ...  False  5.071429   \n",
       "...                             ...   ...  ...    ...       ...   \n",
       "80790                           2.0  44.0  ...   True  1.000000   \n",
       "80791                           2.0  32.0  ...  False  1.500000   \n",
       "80792                           2.0  43.0  ...  False  2.583333   \n",
       "80793                           2.0  38.0  ...  False  1.777778   \n",
       "80794                           2.0  49.0  ...   True  2.666667   \n",
       "\n",
       "      cust_service_mssgs num_videos_completed num_videos_more_than_30_seconds  \\\n",
       "0               1.000000             6.500000                        6.500000   \n",
       "1               0.414634             4.439024                        4.439024   \n",
       "2               0.217391             1.826087                        4.478261   \n",
       "3               0.800000             3.600000                        4.400000   \n",
       "4               0.428571             3.714286                        4.857143   \n",
       "...                  ...                  ...                             ...   \n",
       "80790           0.500000             1.500000                        5.500000   \n",
       "80791           2.000000             6.000000                        6.500000   \n",
       "80792           0.416667             3.916667                        4.916667   \n",
       "80793           0.333333             2.222222                        4.000000   \n",
       "80794           0.555556             1.444444                        4.518519   \n",
       "\n",
       "       num_videos_rated num_series_started  payment_period_y    label  \\\n",
       "0              0.000000           0.500000          0.000000  Group 1   \n",
       "1              0.146341           0.951220          0.756098  Group 1   \n",
       "2              0.000000           0.630435          0.673913  Group 2   \n",
       "3              0.000000           0.600000          0.000000  Group 1   \n",
       "4              0.000000           0.857143          0.000000  Group 1   \n",
       "...                 ...                ...               ...      ...   \n",
       "80790          0.000000           0.500000          0.000000  Group 2   \n",
       "80791          0.000000           0.500000          0.000000  Group 1   \n",
       "80792          0.000000           0.666667          0.000000  Group 1   \n",
       "80793          0.000000           0.222222          0.000000  Group 2   \n",
       "80794          0.000000           0.555556          0.444444  Group 2   \n",
       "\n",
       "      train/test  \n",
       "0          Train  \n",
       "1          Train  \n",
       "2           Test  \n",
       "3          Train  \n",
       "4           Test  \n",
       "...          ...  \n",
       "80790      Train  \n",
       "80791       Test  \n",
       "80792      Train  \n",
       "80793      Train  \n",
       "80794      Train  \n",
       "\n",
       "[80795 rows x 44 columns]"
      ]
     },
     "execution_count": 18,
     "metadata": {},
     "output_type": "execute_result"
    }
   ],
   "source": [
    "cluster"
   ]
  },
  {
   "cell_type": "code",
   "execution_count": 15,
   "id": "3b282375",
   "metadata": {},
   "outputs": [],
   "source": [
    "cluster.to_csv('cluster.csv')"
   ]
  },
  {
   "cell_type": "code",
   "execution_count": 39,
   "id": "3be494f5",
   "metadata": {},
   "outputs": [
    {
     "data": {
      "text/plain": [
       "Index(['Unnamed: 0', 'subid', 'Unnamed: 0.1', 'package_type',\n",
       "       'num_weekly_services_utilized', 'preferred_genre', 'intended_use',\n",
       "       'weekly_consumption_hour', 'num_ideal_streaming_services', 'age',\n",
       "       'male_TF', 'country', 'attribution_technical', 'attribution_survey',\n",
       "       'op_sys', 'months_per_bill_period', 'plan_type', 'monthly_price',\n",
       "       'discount_price', 'account_creation_date', 'trial_end_date',\n",
       "       'initial_credit_card_declined', 'join_fee', 'language', 'payment_type',\n",
       "       'num_trial_days', 'current_sub_TF', 'payment_period_x', 'last_payment',\n",
       "       'next_payment', 'cancel_date', 'trial_completed',\n",
       "       'trial_completed_binary', 'revenue_net_1month', 'renew', 'app_opens',\n",
       "       'cust_service_mssgs', 'num_videos_completed',\n",
       "       'num_videos_more_than_30_seconds', 'num_videos_rated',\n",
       "       'num_series_started', 'payment_period_y', 'label', 'train/test'],\n",
       "      dtype='object')"
      ]
     },
     "execution_count": 39,
     "metadata": {},
     "output_type": "execute_result"
    }
   ],
   "source": [
    "cluster.columns"
   ]
  },
  {
   "cell_type": "code",
   "execution_count": 19,
   "id": "96853603",
   "metadata": {},
   "outputs": [],
   "source": [
    "cluster1 = cluster[cluster['label']=='Group 1']\n",
    "cluster2 = cluster[cluster['label']=='Group 2']"
   ]
  },
  {
   "cell_type": "code",
   "execution_count": 29,
   "id": "0bf677dc",
   "metadata": {},
   "outputs": [
    {
     "data": {
      "text/plain": [
       "num_weekly_services_utilized       2.996559\n",
       "num_videos_completed               3.970936\n",
       "num_videos_more_than_30_seconds    5.026097\n",
       "num_videos_rated                   0.035051\n",
       "num_series_started                 0.755334\n",
       "Name: mean, dtype: float64"
      ]
     },
     "execution_count": 29,
     "metadata": {},
     "output_type": "execute_result"
    }
   ],
   "source": [
    "cluster1[['num_weekly_services_utilized','num_videos_completed','num_videos_more_than_30_seconds','num_videos_rated','num_series_started']].describe().iloc[1,]"
   ]
  },
  {
   "cell_type": "code",
   "execution_count": 30,
   "id": "424bec41",
   "metadata": {},
   "outputs": [
    {
     "data": {
      "text/plain": [
       "num_weekly_services_utilized       3.019083\n",
       "num_videos_completed               1.582900\n",
       "num_videos_more_than_30_seconds    4.412921\n",
       "num_videos_rated                   0.008150\n",
       "num_series_started                 0.444250\n",
       "Name: mean, dtype: float64"
      ]
     },
     "execution_count": 30,
     "metadata": {},
     "output_type": "execute_result"
    }
   ],
   "source": [
    "cluster2[['num_weekly_services_utilized','num_videos_completed','num_videos_more_than_30_seconds','num_videos_rated','num_series_started']].describe().iloc[1,]"
   ]
  },
  {
   "cell_type": "code",
   "execution_count": 24,
   "id": "521c6129",
   "metadata": {},
   "outputs": [
    {
     "name": "stdout",
     "output_type": "stream",
     "text": [
      "0.5750452625226312\n",
      "0.10024140012070006\n",
      "0.3247133373566687\n",
      "0.5461202647514435\n",
      "0.09667652443317842\n",
      "0.3572032108153781\n"
     ]
    }
   ],
   "source": [
    "print((cluster1['package_type']=='base').sum()/cluster1['package_type'].notna().sum())\n",
    "print((cluster1['package_type']=='economy').sum()/cluster1['package_type'].notna().sum())\n",
    "print((cluster1['package_type']=='enhanced').sum()/cluster1['package_type'].notna().sum())\n",
    "\n",
    "print((cluster2['package_type']=='base').sum()/cluster2['package_type'].notna().sum())\n",
    "print((cluster2['package_type']=='economy').sum()/cluster2['package_type'].notna().sum())\n",
    "print((cluster2['package_type']=='enhanced').sum()/cluster2['package_type'].notna().sum())"
   ]
  },
  {
   "cell_type": "code",
   "execution_count": 50,
   "id": "488e36ab",
   "metadata": {},
   "outputs": [
    {
     "name": "stdout",
     "output_type": "stream",
     "text": [
      "19057\n",
      "3322\n",
      "10761\n",
      "15512\n",
      "2746\n",
      "10146\n"
     ]
    }
   ],
   "source": [
    "print((cluster1['package_type']=='base').sum())\n",
    "print((cluster1['package_type']=='economy').sum())\n",
    "print((cluster1['package_type']=='enhanced').sum())\n",
    "\n",
    "print((cluster2['package_type']=='base').sum())\n",
    "print((cluster2['package_type']=='economy').sum())\n",
    "print((cluster2['package_type']=='enhanced').sum())"
   ]
  },
  {
   "cell_type": "code",
   "execution_count": 32,
   "id": "7ae01c13",
   "metadata": {},
   "outputs": [
    {
     "data": {
      "text/plain": [
       "comedy           0.634774\n",
       "drama            0.240015\n",
       "regional         0.060367\n",
       "international    0.035524\n",
       "other            0.029321\n",
       "Name: preferred_genre, dtype: float64"
      ]
     },
     "execution_count": 32,
     "metadata": {},
     "output_type": "execute_result"
    }
   ],
   "source": [
    "cluster1['preferred_genre'].value_counts()/cluster1['preferred_genre'].notna().sum()"
   ]
  },
  {
   "cell_type": "code",
   "execution_count": 33,
   "id": "f10ca3d7",
   "metadata": {},
   "outputs": [
    {
     "data": {
      "text/plain": [
       "comedy           0.614738\n",
       "drama            0.248685\n",
       "regional         0.067653\n",
       "international    0.040571\n",
       "other            0.028354\n",
       "Name: preferred_genre, dtype: float64"
      ]
     },
     "execution_count": 33,
     "metadata": {},
     "output_type": "execute_result"
    }
   ],
   "source": [
    "cluster2['preferred_genre'].value_counts()/cluster2['preferred_genre'].notna().sum()"
   ]
  },
  {
   "cell_type": "code",
   "execution_count": 36,
   "id": "392b2634",
   "metadata": {},
   "outputs": [
    {
     "data": {
      "text/plain": [
       "access to exclusive content    0.364086\n",
       "replace OTT                    0.278507\n",
       "supplement OTT                 0.110451\n",
       "expand regional access         0.098702\n",
       "expand international access    0.082311\n",
       "other                          0.034914\n",
       "education                      0.031029\n",
       "Name: intended_use, dtype: float64"
      ]
     },
     "execution_count": 36,
     "metadata": {},
     "output_type": "execute_result"
    }
   ],
   "source": [
    "cluster1['intended_use'].value_counts()/cluster1['intended_use'].notna().sum()"
   ]
  },
  {
   "cell_type": "code",
   "execution_count": 37,
   "id": "96b0ab4f",
   "metadata": {},
   "outputs": [
    {
     "data": {
      "text/plain": [
       "access to exclusive content    0.339327\n",
       "replace OTT                    0.276851\n",
       "supplement OTT                 0.118662\n",
       "expand regional access         0.100437\n",
       "expand international access    0.092932\n",
       "education                      0.037070\n",
       "other                          0.034721\n",
       "Name: intended_use, dtype: float64"
      ]
     },
     "execution_count": 37,
     "metadata": {},
     "output_type": "execute_result"
    }
   ],
   "source": [
    "cluster2['intended_use'].value_counts()/cluster2['intended_use'].notna().sum()"
   ]
  },
  {
   "cell_type": "code",
   "execution_count": 35,
   "id": "584a17d6",
   "metadata": {},
   "outputs": [
    {
     "name": "stdout",
     "output_type": "stream",
     "text": [
      "45.197106172766006\n",
      "46.487215258024605\n"
     ]
    }
   ],
   "source": [
    "print(cluster1['age'].mean())\n",
    "print(cluster2['age'].mean())"
   ]
  },
  {
   "cell_type": "code",
   "execution_count": 38,
   "id": "27c024df",
   "metadata": {},
   "outputs": [
    {
     "name": "stdout",
     "output_type": "stream",
     "text": [
      "0.32690027204873623\n",
      "0.4306669844043742\n"
     ]
    }
   ],
   "source": [
    "print(cluster1['renew'].mean())\n",
    "print(cluster2['renew'].mean())"
   ]
  },
  {
   "cell_type": "code",
   "execution_count": 40,
   "id": "5338e9bd",
   "metadata": {},
   "outputs": [
    {
     "data": {
      "text/plain": [
       "facebook                   0.285588\n",
       "email                      0.138563\n",
       "organic                    0.105782\n",
       "search                     0.104992\n",
       "brand sem intent google    0.083719\n",
       "google_organic             0.063306\n",
       "affiliate                  0.042545\n",
       "email_blast                0.038477\n",
       "pinterest                  0.027108\n",
       "referral                   0.026992\n",
       "facebook_organic           0.014693\n",
       "other                      0.014205\n",
       "brand sem intent bing      0.011787\n",
       "internal                   0.009369\n",
       "discovery                  0.009183\n",
       "podcast                    0.004952\n",
       "bing                       0.004696\n",
       "display                    0.003394\n",
       "youtube                    0.002790\n",
       "bing_organic               0.002674\n",
       "vod                        0.001534\n",
       "direct_mail                0.000907\n",
       "samsung                    0.000744\n",
       "ott                        0.000511\n",
       "quora                      0.000372\n",
       "appstore                   0.000372\n",
       "pinterest_organic          0.000209\n",
       "influencer                 0.000186\n",
       "criteo                     0.000163\n",
       "content_greatist           0.000093\n",
       "playstore                  0.000093\n",
       "Name: attribution_technical, dtype: float64"
      ]
     },
     "execution_count": 40,
     "metadata": {},
     "output_type": "execute_result"
    }
   ],
   "source": [
    "cluster1['attribution_technical'].value_counts()/cluster1['attribution_technical'].notna().sum()"
   ]
  },
  {
   "cell_type": "code",
   "execution_count": 41,
   "id": "0350b21d",
   "metadata": {},
   "outputs": [
    {
     "data": {
      "text/plain": [
       "facebook                   0.316182\n",
       "email                      0.114181\n",
       "search                     0.107300\n",
       "organic                    0.103991\n",
       "brand sem intent google    0.086126\n",
       "google_organic             0.055714\n",
       "email_blast                0.038484\n",
       "affiliate                  0.034752\n",
       "pinterest                  0.029220\n",
       "referral                   0.029194\n",
       "facebook_organic           0.015881\n",
       "brand sem intent bing      0.013763\n",
       "discovery                  0.011460\n",
       "other                      0.011143\n",
       "internal                   0.007279\n",
       "bing                       0.005558\n",
       "display                    0.005399\n",
       "podcast                    0.004552\n",
       "youtube                    0.003600\n",
       "bing_organic               0.001879\n",
       "vod                        0.000926\n",
       "direct_mail                0.000741\n",
       "ott                        0.000715\n",
       "samsung                    0.000635\n",
       "quora                      0.000582\n",
       "appstore                   0.000238\n",
       "criteo                     0.000159\n",
       "influencer                 0.000132\n",
       "pinterest_organic          0.000132\n",
       "twitter                    0.000053\n",
       "tv                         0.000026\n",
       "Name: attribution_technical, dtype: float64"
      ]
     },
     "execution_count": 41,
     "metadata": {},
     "output_type": "execute_result"
    }
   ],
   "source": [
    "cluster2['attribution_technical'].value_counts()/cluster2['attribution_technical'].notna().sum()"
   ]
  },
  {
   "cell_type": "code",
   "execution_count": 42,
   "id": "a2a65b55",
   "metadata": {},
   "outputs": [
    {
     "data": {
      "text/plain": [
       "ar    1.0\n",
       "Name: language, dtype: float64"
      ]
     },
     "execution_count": 42,
     "metadata": {},
     "output_type": "execute_result"
    }
   ],
   "source": [
    "cluster1['language'].value_counts()/cluster1['language'].notna().sum()"
   ]
  },
  {
   "cell_type": "code",
   "execution_count": 43,
   "id": "01f71408",
   "metadata": {},
   "outputs": [
    {
     "data": {
      "text/plain": [
       "ar    1.0\n",
       "Name: language, dtype: float64"
      ]
     },
     "execution_count": 43,
     "metadata": {},
     "output_type": "execute_result"
    }
   ],
   "source": [
    "cluster2['language'].value_counts()/cluster2['language'].notna().sum()"
   ]
  },
  {
   "cell_type": "code",
   "execution_count": 44,
   "id": "918c1e51",
   "metadata": {},
   "outputs": [
    {
     "data": {
      "text/plain": [
       "UAE    1.0\n",
       "Name: country, dtype: float64"
      ]
     },
     "execution_count": 44,
     "metadata": {},
     "output_type": "execute_result"
    }
   ],
   "source": [
    "cluster1['country'].value_counts()/cluster1['country'].notna().sum()"
   ]
  },
  {
   "cell_type": "code",
   "execution_count": 45,
   "id": "3c38ae6f",
   "metadata": {},
   "outputs": [
    {
     "data": {
      "text/plain": [
       "UAE    1.0\n",
       "Name: country, dtype: float64"
      ]
     },
     "execution_count": 45,
     "metadata": {},
     "output_type": "execute_result"
    }
   ],
   "source": [
    "cluster2['country'].value_counts()/cluster2['country'].notna().sum()"
   ]
  },
  {
   "cell_type": "code",
   "execution_count": 46,
   "id": "30f5ad15",
   "metadata": {},
   "outputs": [
    {
     "data": {
      "text/plain": [
       "False    0.90389\n",
       "True     0.09611\n",
       "Name: male_TF, dtype: float64"
      ]
     },
     "execution_count": 46,
     "metadata": {},
     "output_type": "execute_result"
    }
   ],
   "source": [
    "cluster1['male_TF'].value_counts()/cluster1['male_TF'].notna().sum()"
   ]
  },
  {
   "cell_type": "code",
   "execution_count": 47,
   "id": "8945fb77",
   "metadata": {},
   "outputs": [
    {
     "data": {
      "text/plain": [
       "False    0.860833\n",
       "True     0.139167\n",
       "Name: male_TF, dtype: float64"
      ]
     },
     "execution_count": 47,
     "metadata": {},
     "output_type": "execute_result"
    }
   ],
   "source": [
    "cluster2['male_TF'].value_counts()/cluster2['male_TF'].notna().sum()"
   ]
  },
  {
   "cell_type": "code",
   "execution_count": 48,
   "id": "1f576b85",
   "metadata": {},
   "outputs": [
    {
     "data": {
      "text/plain": [
       "4.734518426989398"
      ]
     },
     "execution_count": 48,
     "metadata": {},
     "output_type": "execute_result"
    }
   ],
   "source": [
    "cluster1['monthly_price'].mean()"
   ]
  },
  {
   "cell_type": "code",
   "execution_count": 49,
   "id": "4d8ec5ed",
   "metadata": {},
   "outputs": [
    {
     "data": {
      "text/plain": [
       "4.733621989308068"
      ]
     },
     "execution_count": 49,
     "metadata": {},
     "output_type": "execute_result"
    }
   ],
   "source": [
    "cluster2['monthly_price'].mean()"
   ]
  },
  {
   "cell_type": "code",
   "execution_count": null,
   "id": "2ab07db2",
   "metadata": {},
   "outputs": [],
   "source": []
  }
 ],
 "metadata": {
  "kernelspec": {
   "display_name": "Python 3",
   "language": "python",
   "name": "python3"
  },
  "language_info": {
   "codemirror_mode": {
    "name": "ipython",
    "version": 3
   },
   "file_extension": ".py",
   "mimetype": "text/x-python",
   "name": "python",
   "nbconvert_exporter": "python",
   "pygments_lexer": "ipython3",
   "version": "3.8.8"
  }
 },
 "nbformat": 4,
 "nbformat_minor": 5
}
